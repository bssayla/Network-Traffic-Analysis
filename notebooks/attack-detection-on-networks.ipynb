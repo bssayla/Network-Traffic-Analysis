{
 "cells": [
  {
   "cell_type": "code",
   "execution_count": 1,
   "id": "573f87aa",
   "metadata": {
    "execution": {
     "iopub.execute_input": "2024-12-16T00:18:43.907639Z",
     "iopub.status.busy": "2024-12-16T00:18:43.907314Z",
     "iopub.status.idle": "2024-12-16T00:18:55.950694Z",
     "shell.execute_reply": "2024-12-16T00:18:55.949964Z"
    },
    "papermill": {
     "duration": 12.052573,
     "end_time": "2024-12-16T00:18:55.952553",
     "exception": false,
     "start_time": "2024-12-16T00:18:43.899980",
     "status": "completed"
    },
    "tags": []
   },
   "outputs": [
    {
     "name": "stderr",
     "output_type": "stream",
     "text": [
      "/opt/conda/lib/python3.10/site-packages/scipy/__init__.py:146: UserWarning: A NumPy version >=1.16.5 and <1.23.0 is required for this version of SciPy (detected version 1.24.3\n",
      "  warnings.warn(f\"A NumPy version >={np_minversion} and <{np_maxversion}\"\n"
     ]
    }
   ],
   "source": [
    "import pandas as pd\n",
    "import numpy as np\n",
    "# tensorflow\n",
    "from tensorflow.keras.models import Model, Sequential\n",
    "from tensorflow.keras.layers import Input, Dense, Dropout, Embedding, Flatten, Concatenate, BatchNormalization\n",
    "from tensorflow.keras.callbacks import EarlyStopping\n",
    "from tensorflow.keras.optimizers import Adam\n",
    "# sklearn\n",
    "from sklearn.model_selection import train_test_split\n",
    "from sklearn.preprocessing import LabelEncoder, StandardScaler\n",
    "from sklearn.feature_selection import SelectKBest, f_classif\n",
    "from sklearn.impute import SimpleImputer\n",
    "from sklearn.metrics import mean_squared_error, r2_score\n",
    "from sklearn.linear_model import LinearRegression"
   ]
  },
  {
   "cell_type": "code",
   "execution_count": 2,
   "id": "4d90c0e0",
   "metadata": {
    "execution": {
     "iopub.execute_input": "2024-12-16T00:18:55.965756Z",
     "iopub.status.busy": "2024-12-16T00:18:55.965273Z",
     "iopub.status.idle": "2024-12-16T00:19:19.951458Z",
     "shell.execute_reply": "2024-12-16T00:19:19.950711Z"
    },
    "papermill": {
     "duration": 23.994543,
     "end_time": "2024-12-16T00:19:19.953323",
     "exception": false,
     "start_time": "2024-12-16T00:18:55.958780",
     "status": "completed"
    },
    "tags": []
   },
   "outputs": [],
   "source": [
    "Friday_WorkingHours_Afternoon_DDos            = pd.read_csv(\"/kaggle/input/network-intrusion-dataset/Friday-WorkingHours-Afternoon-DDos.pcap_ISCX.csv\")\n",
    "Friday_WorkingHours_Afternoon_PortScan        = pd.read_csv(\"/kaggle/input/network-intrusion-dataset/Friday-WorkingHours-Afternoon-PortScan.pcap_ISCX.csv\")\n",
    "Friday_WorkingHours_Morning                   = pd.read_csv(\"/kaggle/input/network-intrusion-dataset/Friday-WorkingHours-Morning.pcap_ISCX.csv\")\n",
    "Monday_WorkingHours                           = pd.read_csv(\"/kaggle/input/network-intrusion-dataset/Monday-WorkingHours.pcap_ISCX.csv\")\n",
    "Thursday_WorkingHours_Afternoon_Infilteration = pd.read_csv(\"/kaggle/input/network-intrusion-dataset/Thursday-WorkingHours-Afternoon-Infilteration.pcap_ISCX.csv\")\n",
    "Thursday_WorkingHours_Morning_WebAttacks      = pd.read_csv(\"/kaggle/input/network-intrusion-dataset/Thursday-WorkingHours-Morning-WebAttacks.pcap_ISCX.csv\")\n",
    "Tuesday_WorkingHours                          = pd.read_csv(\"/kaggle/input/network-intrusion-dataset/Tuesday-WorkingHours.pcap_ISCX.csv\")\n",
    "Wednesday_workingHours                        = pd.read_csv(\"/kaggle/input/network-intrusion-dataset/Wednesday-workingHours.pcap_ISCX.csv\")\n"
   ]
  },
  {
   "cell_type": "code",
   "execution_count": 3,
   "id": "460bb346",
   "metadata": {
    "execution": {
     "iopub.execute_input": "2024-12-16T00:19:19.966050Z",
     "iopub.status.busy": "2024-12-16T00:19:19.965813Z",
     "iopub.status.idle": "2024-12-16T00:19:20.544935Z",
     "shell.execute_reply": "2024-12-16T00:19:20.544233Z"
    },
    "papermill": {
     "duration": 0.587441,
     "end_time": "2024-12-16T00:19:20.546907",
     "exception": false,
     "start_time": "2024-12-16T00:19:19.959466",
     "status": "completed"
    },
    "tags": []
   },
   "outputs": [],
   "source": [
    "df = pd.concat(\n",
    "    [\n",
    "        Friday_WorkingHours_Afternoon_DDos,\n",
    "        Friday_WorkingHours_Afternoon_PortScan,\n",
    "        Friday_WorkingHours_Morning,\n",
    "        Monday_WorkingHours,\n",
    "        Thursday_WorkingHours_Afternoon_Infilteration,\n",
    "        Thursday_WorkingHours_Morning_WebAttacks,\n",
    "        Tuesday_WorkingHours,\n",
    "        Wednesday_workingHours\n",
    "    ],\n",
    "    axis=0\n",
    ")\n",
    "df.columns = Friday_WorkingHours_Afternoon_DDos.columns"
   ]
  },
  {
   "cell_type": "code",
   "execution_count": 4,
   "id": "ab79a777",
   "metadata": {
    "execution": {
     "iopub.execute_input": "2024-12-16T00:19:20.559613Z",
     "iopub.status.busy": "2024-12-16T00:19:20.559367Z",
     "iopub.status.idle": "2024-12-16T00:19:20.588146Z",
     "shell.execute_reply": "2024-12-16T00:19:20.587431Z"
    },
    "papermill": {
     "duration": 0.036895,
     "end_time": "2024-12-16T00:19:20.589800",
     "exception": false,
     "start_time": "2024-12-16T00:19:20.552905",
     "status": "completed"
    },
    "tags": []
   },
   "outputs": [
    {
     "data": {
      "text/html": [
       "<div>\n",
       "<style scoped>\n",
       "    .dataframe tbody tr th:only-of-type {\n",
       "        vertical-align: middle;\n",
       "    }\n",
       "\n",
       "    .dataframe tbody tr th {\n",
       "        vertical-align: top;\n",
       "    }\n",
       "\n",
       "    .dataframe thead th {\n",
       "        text-align: right;\n",
       "    }\n",
       "</style>\n",
       "<table border=\"1\" class=\"dataframe\">\n",
       "  <thead>\n",
       "    <tr style=\"text-align: right;\">\n",
       "      <th></th>\n",
       "      <th>Destination Port</th>\n",
       "      <th>Flow Duration</th>\n",
       "      <th>Total Fwd Packets</th>\n",
       "      <th>Total Backward Packets</th>\n",
       "      <th>Total Length of Fwd Packets</th>\n",
       "      <th>Total Length of Bwd Packets</th>\n",
       "      <th>Fwd Packet Length Max</th>\n",
       "      <th>Fwd Packet Length Min</th>\n",
       "      <th>Fwd Packet Length Mean</th>\n",
       "      <th>Fwd Packet Length Std</th>\n",
       "      <th>...</th>\n",
       "      <th>min_seg_size_forward</th>\n",
       "      <th>Active Mean</th>\n",
       "      <th>Active Std</th>\n",
       "      <th>Active Max</th>\n",
       "      <th>Active Min</th>\n",
       "      <th>Idle Mean</th>\n",
       "      <th>Idle Std</th>\n",
       "      <th>Idle Max</th>\n",
       "      <th>Idle Min</th>\n",
       "      <th>Label</th>\n",
       "    </tr>\n",
       "  </thead>\n",
       "  <tbody>\n",
       "    <tr>\n",
       "      <th>0</th>\n",
       "      <td>54865</td>\n",
       "      <td>3</td>\n",
       "      <td>2</td>\n",
       "      <td>0</td>\n",
       "      <td>12</td>\n",
       "      <td>0</td>\n",
       "      <td>6</td>\n",
       "      <td>6</td>\n",
       "      <td>6.0</td>\n",
       "      <td>0.0</td>\n",
       "      <td>...</td>\n",
       "      <td>20</td>\n",
       "      <td>0.0</td>\n",
       "      <td>0.0</td>\n",
       "      <td>0</td>\n",
       "      <td>0</td>\n",
       "      <td>0.0</td>\n",
       "      <td>0.0</td>\n",
       "      <td>0</td>\n",
       "      <td>0</td>\n",
       "      <td>BENIGN</td>\n",
       "    </tr>\n",
       "    <tr>\n",
       "      <th>1</th>\n",
       "      <td>55054</td>\n",
       "      <td>109</td>\n",
       "      <td>1</td>\n",
       "      <td>1</td>\n",
       "      <td>6</td>\n",
       "      <td>6</td>\n",
       "      <td>6</td>\n",
       "      <td>6</td>\n",
       "      <td>6.0</td>\n",
       "      <td>0.0</td>\n",
       "      <td>...</td>\n",
       "      <td>20</td>\n",
       "      <td>0.0</td>\n",
       "      <td>0.0</td>\n",
       "      <td>0</td>\n",
       "      <td>0</td>\n",
       "      <td>0.0</td>\n",
       "      <td>0.0</td>\n",
       "      <td>0</td>\n",
       "      <td>0</td>\n",
       "      <td>BENIGN</td>\n",
       "    </tr>\n",
       "    <tr>\n",
       "      <th>2</th>\n",
       "      <td>55055</td>\n",
       "      <td>52</td>\n",
       "      <td>1</td>\n",
       "      <td>1</td>\n",
       "      <td>6</td>\n",
       "      <td>6</td>\n",
       "      <td>6</td>\n",
       "      <td>6</td>\n",
       "      <td>6.0</td>\n",
       "      <td>0.0</td>\n",
       "      <td>...</td>\n",
       "      <td>20</td>\n",
       "      <td>0.0</td>\n",
       "      <td>0.0</td>\n",
       "      <td>0</td>\n",
       "      <td>0</td>\n",
       "      <td>0.0</td>\n",
       "      <td>0.0</td>\n",
       "      <td>0</td>\n",
       "      <td>0</td>\n",
       "      <td>BENIGN</td>\n",
       "    </tr>\n",
       "    <tr>\n",
       "      <th>3</th>\n",
       "      <td>46236</td>\n",
       "      <td>34</td>\n",
       "      <td>1</td>\n",
       "      <td>1</td>\n",
       "      <td>6</td>\n",
       "      <td>6</td>\n",
       "      <td>6</td>\n",
       "      <td>6</td>\n",
       "      <td>6.0</td>\n",
       "      <td>0.0</td>\n",
       "      <td>...</td>\n",
       "      <td>20</td>\n",
       "      <td>0.0</td>\n",
       "      <td>0.0</td>\n",
       "      <td>0</td>\n",
       "      <td>0</td>\n",
       "      <td>0.0</td>\n",
       "      <td>0.0</td>\n",
       "      <td>0</td>\n",
       "      <td>0</td>\n",
       "      <td>BENIGN</td>\n",
       "    </tr>\n",
       "    <tr>\n",
       "      <th>4</th>\n",
       "      <td>54863</td>\n",
       "      <td>3</td>\n",
       "      <td>2</td>\n",
       "      <td>0</td>\n",
       "      <td>12</td>\n",
       "      <td>0</td>\n",
       "      <td>6</td>\n",
       "      <td>6</td>\n",
       "      <td>6.0</td>\n",
       "      <td>0.0</td>\n",
       "      <td>...</td>\n",
       "      <td>20</td>\n",
       "      <td>0.0</td>\n",
       "      <td>0.0</td>\n",
       "      <td>0</td>\n",
       "      <td>0</td>\n",
       "      <td>0.0</td>\n",
       "      <td>0.0</td>\n",
       "      <td>0</td>\n",
       "      <td>0</td>\n",
       "      <td>BENIGN</td>\n",
       "    </tr>\n",
       "  </tbody>\n",
       "</table>\n",
       "<p>5 rows × 79 columns</p>\n",
       "</div>"
      ],
      "text/plain": [
       "    Destination Port   Flow Duration   Total Fwd Packets  \\\n",
       "0              54865               3                   2   \n",
       "1              55054             109                   1   \n",
       "2              55055              52                   1   \n",
       "3              46236              34                   1   \n",
       "4              54863               3                   2   \n",
       "\n",
       "    Total Backward Packets  Total Length of Fwd Packets  \\\n",
       "0                        0                           12   \n",
       "1                        1                            6   \n",
       "2                        1                            6   \n",
       "3                        1                            6   \n",
       "4                        0                           12   \n",
       "\n",
       "    Total Length of Bwd Packets   Fwd Packet Length Max  \\\n",
       "0                             0                       6   \n",
       "1                             6                       6   \n",
       "2                             6                       6   \n",
       "3                             6                       6   \n",
       "4                             0                       6   \n",
       "\n",
       "    Fwd Packet Length Min   Fwd Packet Length Mean   Fwd Packet Length Std  \\\n",
       "0                       6                      6.0                     0.0   \n",
       "1                       6                      6.0                     0.0   \n",
       "2                       6                      6.0                     0.0   \n",
       "3                       6                      6.0                     0.0   \n",
       "4                       6                      6.0                     0.0   \n",
       "\n",
       "   ...   min_seg_size_forward  Active Mean   Active Std   Active Max  \\\n",
       "0  ...                     20          0.0          0.0            0   \n",
       "1  ...                     20          0.0          0.0            0   \n",
       "2  ...                     20          0.0          0.0            0   \n",
       "3  ...                     20          0.0          0.0            0   \n",
       "4  ...                     20          0.0          0.0            0   \n",
       "\n",
       "    Active Min  Idle Mean   Idle Std   Idle Max   Idle Min   Label  \n",
       "0            0        0.0        0.0          0          0  BENIGN  \n",
       "1            0        0.0        0.0          0          0  BENIGN  \n",
       "2            0        0.0        0.0          0          0  BENIGN  \n",
       "3            0        0.0        0.0          0          0  BENIGN  \n",
       "4            0        0.0        0.0          0          0  BENIGN  \n",
       "\n",
       "[5 rows x 79 columns]"
      ]
     },
     "execution_count": 4,
     "metadata": {},
     "output_type": "execute_result"
    }
   ],
   "source": [
    "df.head()"
   ]
  },
  {
   "cell_type": "code",
   "execution_count": 5,
   "id": "aa35ce30",
   "metadata": {
    "execution": {
     "iopub.execute_input": "2024-12-16T00:19:20.602967Z",
     "iopub.status.busy": "2024-12-16T00:19:20.602717Z",
     "iopub.status.idle": "2024-12-16T00:19:20.609307Z",
     "shell.execute_reply": "2024-12-16T00:19:20.608499Z"
    },
    "papermill": {
     "duration": 0.014836,
     "end_time": "2024-12-16T00:19:20.610800",
     "exception": false,
     "start_time": "2024-12-16T00:19:20.595964",
     "status": "completed"
    },
    "tags": []
   },
   "outputs": [
    {
     "data": {
      "text/plain": [
       "Index([' Destination Port', ' Flow Duration', ' Total Fwd Packets',\n",
       "       ' Total Backward Packets', 'Total Length of Fwd Packets',\n",
       "       ' Total Length of Bwd Packets', ' Fwd Packet Length Max',\n",
       "       ' Fwd Packet Length Min', ' Fwd Packet Length Mean',\n",
       "       ' Fwd Packet Length Std', 'Bwd Packet Length Max',\n",
       "       ' Bwd Packet Length Min', ' Bwd Packet Length Mean',\n",
       "       ' Bwd Packet Length Std', 'Flow Bytes/s', ' Flow Packets/s',\n",
       "       ' Flow IAT Mean', ' Flow IAT Std', ' Flow IAT Max', ' Flow IAT Min',\n",
       "       'Fwd IAT Total', ' Fwd IAT Mean', ' Fwd IAT Std', ' Fwd IAT Max',\n",
       "       ' Fwd IAT Min', 'Bwd IAT Total', ' Bwd IAT Mean', ' Bwd IAT Std',\n",
       "       ' Bwd IAT Max', ' Bwd IAT Min', 'Fwd PSH Flags', ' Bwd PSH Flags',\n",
       "       ' Fwd URG Flags', ' Bwd URG Flags', ' Fwd Header Length',\n",
       "       ' Bwd Header Length', 'Fwd Packets/s', ' Bwd Packets/s',\n",
       "       ' Min Packet Length', ' Max Packet Length', ' Packet Length Mean',\n",
       "       ' Packet Length Std', ' Packet Length Variance', 'FIN Flag Count',\n",
       "       ' SYN Flag Count', ' RST Flag Count', ' PSH Flag Count',\n",
       "       ' ACK Flag Count', ' URG Flag Count', ' CWE Flag Count',\n",
       "       ' ECE Flag Count', ' Down/Up Ratio', ' Average Packet Size',\n",
       "       ' Avg Fwd Segment Size', ' Avg Bwd Segment Size',\n",
       "       ' Fwd Header Length.1', 'Fwd Avg Bytes/Bulk', ' Fwd Avg Packets/Bulk',\n",
       "       ' Fwd Avg Bulk Rate', ' Bwd Avg Bytes/Bulk', ' Bwd Avg Packets/Bulk',\n",
       "       'Bwd Avg Bulk Rate', 'Subflow Fwd Packets', ' Subflow Fwd Bytes',\n",
       "       ' Subflow Bwd Packets', ' Subflow Bwd Bytes', 'Init_Win_bytes_forward',\n",
       "       ' Init_Win_bytes_backward', ' act_data_pkt_fwd',\n",
       "       ' min_seg_size_forward', 'Active Mean', ' Active Std', ' Active Max',\n",
       "       ' Active Min', 'Idle Mean', ' Idle Std', ' Idle Max', ' Idle Min',\n",
       "       ' Label'],\n",
       "      dtype='object')"
      ]
     },
     "execution_count": 5,
     "metadata": {},
     "output_type": "execute_result"
    }
   ],
   "source": [
    "df.columns"
   ]
  },
  {
   "cell_type": "code",
   "execution_count": 6,
   "id": "c393d188",
   "metadata": {
    "execution": {
     "iopub.execute_input": "2024-12-16T00:19:20.624543Z",
     "iopub.status.busy": "2024-12-16T00:19:20.624292Z",
     "iopub.status.idle": "2024-12-16T00:19:20.749412Z",
     "shell.execute_reply": "2024-12-16T00:19:20.748503Z"
    },
    "papermill": {
     "duration": 0.133629,
     "end_time": "2024-12-16T00:19:20.751262",
     "exception": false,
     "start_time": "2024-12-16T00:19:20.617633",
     "status": "completed"
    },
    "tags": []
   },
   "outputs": [
    {
     "data": {
      "text/plain": [
       "array(['BENIGN', 'DDoS', 'PortScan', 'Bot', 'Infiltration',\n",
       "       'Web Attack � Brute Force', 'Web Attack � XSS',\n",
       "       'Web Attack � Sql Injection', 'FTP-Patator', 'SSH-Patator',\n",
       "       'DoS slowloris', 'DoS Slowhttptest', 'DoS Hulk', 'DoS GoldenEye',\n",
       "       'Heartbleed'], dtype=object)"
      ]
     },
     "execution_count": 6,
     "metadata": {},
     "output_type": "execute_result"
    }
   ],
   "source": [
    "df[' Label'].unique()"
   ]
  },
  {
   "cell_type": "code",
   "execution_count": 7,
   "id": "c980f7aa",
   "metadata": {
    "execution": {
     "iopub.execute_input": "2024-12-16T00:19:20.766303Z",
     "iopub.status.busy": "2024-12-16T00:19:20.765987Z",
     "iopub.status.idle": "2024-12-16T00:19:21.252518Z",
     "shell.execute_reply": "2024-12-16T00:19:21.251658Z"
    },
    "papermill": {
     "duration": 0.49632,
     "end_time": "2024-12-16T00:19:21.254271",
     "exception": false,
     "start_time": "2024-12-16T00:19:20.757951",
     "status": "completed"
    },
    "tags": []
   },
   "outputs": [
    {
     "data": {
      "text/plain": [
       "array(['BENIGN', 'ATTACK'], dtype=object)"
      ]
     },
     "execution_count": 7,
     "metadata": {},
     "output_type": "execute_result"
    }
   ],
   "source": [
    "df[' Label'] = df[' Label'].apply(lambda x: 'BENIGN' if x == 'BENIGN' else 'ATTACK')\n",
    "df[' Label'].unique()"
   ]
  },
  {
   "cell_type": "code",
   "execution_count": 8,
   "id": "a6ffcb4f",
   "metadata": {
    "execution": {
     "iopub.execute_input": "2024-12-16T00:19:21.268503Z",
     "iopub.status.busy": "2024-12-16T00:19:21.268215Z",
     "iopub.status.idle": "2024-12-16T00:19:21.649322Z",
     "shell.execute_reply": "2024-12-16T00:19:21.648353Z"
    },
    "papermill": {
     "duration": 0.390471,
     "end_time": "2024-12-16T00:19:21.651472",
     "exception": false,
     "start_time": "2024-12-16T00:19:21.261001",
     "status": "completed"
    },
    "tags": []
   },
   "outputs": [],
   "source": [
    "encoder = LabelEncoder()\n",
    "df[' Label']= encoder.fit_transform(df[' Label'])"
   ]
  },
  {
   "cell_type": "code",
   "execution_count": 9,
   "id": "18a19fcd",
   "metadata": {
    "execution": {
     "iopub.execute_input": "2024-12-16T00:19:21.665592Z",
     "iopub.status.busy": "2024-12-16T00:19:21.665304Z",
     "iopub.status.idle": "2024-12-16T00:19:21.683564Z",
     "shell.execute_reply": "2024-12-16T00:19:21.682787Z"
    },
    "papermill": {
     "duration": 0.027147,
     "end_time": "2024-12-16T00:19:21.685284",
     "exception": false,
     "start_time": "2024-12-16T00:19:21.658137",
     "status": "completed"
    },
    "tags": []
   },
   "outputs": [
    {
     "data": {
      "text/html": [
       "<div>\n",
       "<style scoped>\n",
       "    .dataframe tbody tr th:only-of-type {\n",
       "        vertical-align: middle;\n",
       "    }\n",
       "\n",
       "    .dataframe tbody tr th {\n",
       "        vertical-align: top;\n",
       "    }\n",
       "\n",
       "    .dataframe thead th {\n",
       "        text-align: right;\n",
       "    }\n",
       "</style>\n",
       "<table border=\"1\" class=\"dataframe\">\n",
       "  <thead>\n",
       "    <tr style=\"text-align: right;\">\n",
       "      <th></th>\n",
       "      <th>Destination Port</th>\n",
       "      <th>Flow Duration</th>\n",
       "      <th>Total Fwd Packets</th>\n",
       "      <th>Total Backward Packets</th>\n",
       "      <th>Total Length of Fwd Packets</th>\n",
       "      <th>Total Length of Bwd Packets</th>\n",
       "      <th>Fwd Packet Length Max</th>\n",
       "      <th>Fwd Packet Length Min</th>\n",
       "      <th>Fwd Packet Length Mean</th>\n",
       "      <th>Fwd Packet Length Std</th>\n",
       "      <th>...</th>\n",
       "      <th>min_seg_size_forward</th>\n",
       "      <th>Active Mean</th>\n",
       "      <th>Active Std</th>\n",
       "      <th>Active Max</th>\n",
       "      <th>Active Min</th>\n",
       "      <th>Idle Mean</th>\n",
       "      <th>Idle Std</th>\n",
       "      <th>Idle Max</th>\n",
       "      <th>Idle Min</th>\n",
       "      <th>Label</th>\n",
       "    </tr>\n",
       "  </thead>\n",
       "  <tbody>\n",
       "    <tr>\n",
       "      <th>0</th>\n",
       "      <td>54865</td>\n",
       "      <td>3</td>\n",
       "      <td>2</td>\n",
       "      <td>0</td>\n",
       "      <td>12</td>\n",
       "      <td>0</td>\n",
       "      <td>6</td>\n",
       "      <td>6</td>\n",
       "      <td>6.0</td>\n",
       "      <td>0.0</td>\n",
       "      <td>...</td>\n",
       "      <td>20</td>\n",
       "      <td>0.0</td>\n",
       "      <td>0.0</td>\n",
       "      <td>0</td>\n",
       "      <td>0</td>\n",
       "      <td>0.0</td>\n",
       "      <td>0.0</td>\n",
       "      <td>0</td>\n",
       "      <td>0</td>\n",
       "      <td>1</td>\n",
       "    </tr>\n",
       "    <tr>\n",
       "      <th>1</th>\n",
       "      <td>55054</td>\n",
       "      <td>109</td>\n",
       "      <td>1</td>\n",
       "      <td>1</td>\n",
       "      <td>6</td>\n",
       "      <td>6</td>\n",
       "      <td>6</td>\n",
       "      <td>6</td>\n",
       "      <td>6.0</td>\n",
       "      <td>0.0</td>\n",
       "      <td>...</td>\n",
       "      <td>20</td>\n",
       "      <td>0.0</td>\n",
       "      <td>0.0</td>\n",
       "      <td>0</td>\n",
       "      <td>0</td>\n",
       "      <td>0.0</td>\n",
       "      <td>0.0</td>\n",
       "      <td>0</td>\n",
       "      <td>0</td>\n",
       "      <td>1</td>\n",
       "    </tr>\n",
       "    <tr>\n",
       "      <th>2</th>\n",
       "      <td>55055</td>\n",
       "      <td>52</td>\n",
       "      <td>1</td>\n",
       "      <td>1</td>\n",
       "      <td>6</td>\n",
       "      <td>6</td>\n",
       "      <td>6</td>\n",
       "      <td>6</td>\n",
       "      <td>6.0</td>\n",
       "      <td>0.0</td>\n",
       "      <td>...</td>\n",
       "      <td>20</td>\n",
       "      <td>0.0</td>\n",
       "      <td>0.0</td>\n",
       "      <td>0</td>\n",
       "      <td>0</td>\n",
       "      <td>0.0</td>\n",
       "      <td>0.0</td>\n",
       "      <td>0</td>\n",
       "      <td>0</td>\n",
       "      <td>1</td>\n",
       "    </tr>\n",
       "    <tr>\n",
       "      <th>3</th>\n",
       "      <td>46236</td>\n",
       "      <td>34</td>\n",
       "      <td>1</td>\n",
       "      <td>1</td>\n",
       "      <td>6</td>\n",
       "      <td>6</td>\n",
       "      <td>6</td>\n",
       "      <td>6</td>\n",
       "      <td>6.0</td>\n",
       "      <td>0.0</td>\n",
       "      <td>...</td>\n",
       "      <td>20</td>\n",
       "      <td>0.0</td>\n",
       "      <td>0.0</td>\n",
       "      <td>0</td>\n",
       "      <td>0</td>\n",
       "      <td>0.0</td>\n",
       "      <td>0.0</td>\n",
       "      <td>0</td>\n",
       "      <td>0</td>\n",
       "      <td>1</td>\n",
       "    </tr>\n",
       "    <tr>\n",
       "      <th>4</th>\n",
       "      <td>54863</td>\n",
       "      <td>3</td>\n",
       "      <td>2</td>\n",
       "      <td>0</td>\n",
       "      <td>12</td>\n",
       "      <td>0</td>\n",
       "      <td>6</td>\n",
       "      <td>6</td>\n",
       "      <td>6.0</td>\n",
       "      <td>0.0</td>\n",
       "      <td>...</td>\n",
       "      <td>20</td>\n",
       "      <td>0.0</td>\n",
       "      <td>0.0</td>\n",
       "      <td>0</td>\n",
       "      <td>0</td>\n",
       "      <td>0.0</td>\n",
       "      <td>0.0</td>\n",
       "      <td>0</td>\n",
       "      <td>0</td>\n",
       "      <td>1</td>\n",
       "    </tr>\n",
       "  </tbody>\n",
       "</table>\n",
       "<p>5 rows × 79 columns</p>\n",
       "</div>"
      ],
      "text/plain": [
       "    Destination Port   Flow Duration   Total Fwd Packets  \\\n",
       "0              54865               3                   2   \n",
       "1              55054             109                   1   \n",
       "2              55055              52                   1   \n",
       "3              46236              34                   1   \n",
       "4              54863               3                   2   \n",
       "\n",
       "    Total Backward Packets  Total Length of Fwd Packets  \\\n",
       "0                        0                           12   \n",
       "1                        1                            6   \n",
       "2                        1                            6   \n",
       "3                        1                            6   \n",
       "4                        0                           12   \n",
       "\n",
       "    Total Length of Bwd Packets   Fwd Packet Length Max  \\\n",
       "0                             0                       6   \n",
       "1                             6                       6   \n",
       "2                             6                       6   \n",
       "3                             6                       6   \n",
       "4                             0                       6   \n",
       "\n",
       "    Fwd Packet Length Min   Fwd Packet Length Mean   Fwd Packet Length Std  \\\n",
       "0                       6                      6.0                     0.0   \n",
       "1                       6                      6.0                     0.0   \n",
       "2                       6                      6.0                     0.0   \n",
       "3                       6                      6.0                     0.0   \n",
       "4                       6                      6.0                     0.0   \n",
       "\n",
       "   ...   min_seg_size_forward  Active Mean   Active Std   Active Max  \\\n",
       "0  ...                     20          0.0          0.0            0   \n",
       "1  ...                     20          0.0          0.0            0   \n",
       "2  ...                     20          0.0          0.0            0   \n",
       "3  ...                     20          0.0          0.0            0   \n",
       "4  ...                     20          0.0          0.0            0   \n",
       "\n",
       "    Active Min  Idle Mean   Idle Std   Idle Max   Idle Min   Label  \n",
       "0            0        0.0        0.0          0          0       1  \n",
       "1            0        0.0        0.0          0          0       1  \n",
       "2            0        0.0        0.0          0          0       1  \n",
       "3            0        0.0        0.0          0          0       1  \n",
       "4            0        0.0        0.0          0          0       1  \n",
       "\n",
       "[5 rows x 79 columns]"
      ]
     },
     "execution_count": 9,
     "metadata": {},
     "output_type": "execute_result"
    }
   ],
   "source": [
    "df.head()"
   ]
  },
  {
   "cell_type": "code",
   "execution_count": 10,
   "id": "a31437a2",
   "metadata": {
    "execution": {
     "iopub.execute_input": "2024-12-16T00:19:21.699495Z",
     "iopub.status.busy": "2024-12-16T00:19:21.699240Z",
     "iopub.status.idle": "2024-12-16T00:19:21.722395Z",
     "shell.execute_reply": "2024-12-16T00:19:21.721718Z"
    },
    "papermill": {
     "duration": 0.032027,
     "end_time": "2024-12-16T00:19:21.723942",
     "exception": false,
     "start_time": "2024-12-16T00:19:21.691915",
     "status": "completed"
    },
    "tags": []
   },
   "outputs": [
    {
     "data": {
      "text/plain": [
       "<bound method Series.sum of  Label\n",
       "1    2273097\n",
       "0     557646\n",
       "Name: count, dtype: int64>"
      ]
     },
     "execution_count": 10,
     "metadata": {},
     "output_type": "execute_result"
    }
   ],
   "source": [
    "df[' Label'].value_counts().sum"
   ]
  },
  {
   "cell_type": "code",
   "execution_count": 11,
   "id": "c4aebc03",
   "metadata": {
    "execution": {
     "iopub.execute_input": "2024-12-16T00:19:21.737943Z",
     "iopub.status.busy": "2024-12-16T00:19:21.737710Z",
     "iopub.status.idle": "2024-12-16T00:19:24.849248Z",
     "shell.execute_reply": "2024-12-16T00:19:24.848271Z"
    },
    "papermill": {
     "duration": 3.120949,
     "end_time": "2024-12-16T00:19:24.851454",
     "exception": false,
     "start_time": "2024-12-16T00:19:21.730505",
     "status": "completed"
    },
    "tags": []
   },
   "outputs": [],
   "source": [
    "df = df.fillna(0)  # Replace NaN with 0\n",
    "df = df.replace([np.inf, -np.inf], 0)"
   ]
  },
  {
   "cell_type": "code",
   "execution_count": 12,
   "id": "dc9c9662",
   "metadata": {
    "execution": {
     "iopub.execute_input": "2024-12-16T00:19:24.866413Z",
     "iopub.status.busy": "2024-12-16T00:19:24.866102Z",
     "iopub.status.idle": "2024-12-16T00:19:25.090879Z",
     "shell.execute_reply": "2024-12-16T00:19:25.089901Z"
    },
    "papermill": {
     "duration": 0.234235,
     "end_time": "2024-12-16T00:19:25.092871",
     "exception": false,
     "start_time": "2024-12-16T00:19:24.858636",
     "status": "completed"
    },
    "tags": []
   },
   "outputs": [
    {
     "data": {
      "text/plain": [
       " Destination Port              0\n",
       " Flow Duration                 0\n",
       " Total Fwd Packets             0\n",
       " Total Backward Packets        0\n",
       "Total Length of Fwd Packets    0\n",
       "                              ..\n",
       "Idle Mean                      0\n",
       " Idle Std                      0\n",
       " Idle Max                      0\n",
       " Idle Min                      0\n",
       " Label                         0\n",
       "Length: 79, dtype: int64"
      ]
     },
     "execution_count": 12,
     "metadata": {},
     "output_type": "execute_result"
    }
   ],
   "source": [
    "df.isnull().sum()"
   ]
  },
  {
   "cell_type": "code",
   "execution_count": 13,
   "id": "ad98b779",
   "metadata": {
    "execution": {
     "iopub.execute_input": "2024-12-16T00:19:25.109067Z",
     "iopub.status.busy": "2024-12-16T00:19:25.108789Z",
     "iopub.status.idle": "2024-12-16T00:19:25.771679Z",
     "shell.execute_reply": "2024-12-16T00:19:25.770690Z"
    },
    "papermill": {
     "duration": 0.673235,
     "end_time": "2024-12-16T00:19:25.773848",
     "exception": false,
     "start_time": "2024-12-16T00:19:25.100613",
     "status": "completed"
    },
    "tags": []
   },
   "outputs": [],
   "source": [
    "df=df.astype(int)"
   ]
  },
  {
   "cell_type": "code",
   "execution_count": 14,
   "id": "9db1fc2c",
   "metadata": {
    "execution": {
     "iopub.execute_input": "2024-12-16T00:19:25.789567Z",
     "iopub.status.busy": "2024-12-16T00:19:25.788761Z",
     "iopub.status.idle": "2024-12-16T00:19:26.390210Z",
     "shell.execute_reply": "2024-12-16T00:19:26.389275Z"
    },
    "papermill": {
     "duration": 0.61083,
     "end_time": "2024-12-16T00:19:26.392219",
     "exception": false,
     "start_time": "2024-12-16T00:19:25.781389",
     "status": "completed"
    },
    "tags": []
   },
   "outputs": [],
   "source": [
    "\n",
    "X = df.drop(' Label',axis=1)\n",
    "y = df[' Label']\n",
    "\n",
    "\n"
   ]
  },
  {
   "cell_type": "code",
   "execution_count": 15,
   "id": "8e63ec11",
   "metadata": {
    "execution": {
     "iopub.execute_input": "2024-12-16T00:19:26.407189Z",
     "iopub.status.busy": "2024-12-16T00:19:26.406911Z",
     "iopub.status.idle": "2024-12-16T00:19:31.436013Z",
     "shell.execute_reply": "2024-12-16T00:19:31.435249Z"
    },
    "papermill": {
     "duration": 5.038591,
     "end_time": "2024-12-16T00:19:31.438020",
     "exception": false,
     "start_time": "2024-12-16T00:19:26.399429",
     "status": "completed"
    },
    "tags": []
   },
   "outputs": [],
   "source": [
    "scaler = StandardScaler()\n",
    "X_scaled = scaler.fit_transform(X)"
   ]
  },
  {
   "cell_type": "code",
   "execution_count": 16,
   "id": "ff00ed12",
   "metadata": {
    "execution": {
     "iopub.execute_input": "2024-12-16T00:19:31.453795Z",
     "iopub.status.busy": "2024-12-16T00:19:31.453120Z",
     "iopub.status.idle": "2024-12-16T00:19:40.114742Z",
     "shell.execute_reply": "2024-12-16T00:19:40.114027Z"
    },
    "papermill": {
     "duration": 8.67149,
     "end_time": "2024-12-16T00:19:40.116711",
     "exception": false,
     "start_time": "2024-12-16T00:19:31.445221",
     "status": "completed"
    },
    "tags": []
   },
   "outputs": [
    {
     "name": "stderr",
     "output_type": "stream",
     "text": [
      "/opt/conda/lib/python3.10/site-packages/sklearn/feature_selection/_univariate_selection.py:112: UserWarning: Features [31 33 56 57 58 59 60 61] are constant.\n",
      "  warnings.warn(\"Features %s are constant.\" % constant_features_idx, UserWarning)\n",
      "/opt/conda/lib/python3.10/site-packages/sklearn/feature_selection/_univariate_selection.py:113: RuntimeWarning: invalid value encountered in divide\n",
      "  f = msb / msw\n"
     ]
    }
   ],
   "source": [
    "# Impute missing values (replace NaNs with the mean)\n",
    "imputer = SimpleImputer(strategy='mean')\n",
    "X_imputed = imputer.fit_transform(X)\n",
    "\n",
    "# Determine the number of columns (features) in your DataFrame\n",
    "num_columns = df.shape[1]\n",
    "\n",
    "# Set an appropriate value for k (less than or equal to the number of columns)\n",
    "k = min(20, num_columns)  # Adjust this as needed\n",
    "\n",
    "# Initialize SelectKBest with the scoring function\n",
    "k_best = SelectKBest(score_func=f_classif, k=k)\n",
    "\n",
    "# Fit and transform the imputed data to select the top 10 features\n",
    "X_new = k_best.fit_transform(X_imputed, y)"
   ]
  },
  {
   "cell_type": "code",
   "execution_count": 17,
   "id": "d422b375",
   "metadata": {
    "execution": {
     "iopub.execute_input": "2024-12-16T00:19:40.132353Z",
     "iopub.status.busy": "2024-12-16T00:19:40.131820Z",
     "iopub.status.idle": "2024-12-16T00:19:40.136802Z",
     "shell.execute_reply": "2024-12-16T00:19:40.135977Z"
    },
    "papermill": {
     "duration": 0.014392,
     "end_time": "2024-12-16T00:19:40.138462",
     "exception": false,
     "start_time": "2024-12-16T00:19:40.124070",
     "status": "completed"
    },
    "tags": []
   },
   "outputs": [
    {
     "name": "stdout",
     "output_type": "stream",
     "text": [
      "[False  True False False False False False False False False  True  True\n",
      "  True  True False False False  True  True False  True False  True  True\n",
      " False False False False False False False False False False False False\n",
      " False False  True  True  True  True  True False False False False False\n",
      " False False False False  True False  True False False False False False\n",
      " False False False False False False False False False False False False\n",
      " False False  True False  True  True]\n"
     ]
    }
   ],
   "source": [
    "# Get the boolean mask of selected features\n",
    "selected_features_mask = k_best.get_support()\n",
    "print(selected_features_mask)\n",
    "\n"
   ]
  },
  {
   "cell_type": "code",
   "execution_count": 18,
   "id": "ad17f387",
   "metadata": {
    "execution": {
     "iopub.execute_input": "2024-12-16T00:19:40.196600Z",
     "iopub.status.busy": "2024-12-16T00:19:40.196000Z",
     "iopub.status.idle": "2024-12-16T00:19:40.200130Z",
     "shell.execute_reply": "2024-12-16T00:19:40.199411Z"
    },
    "papermill": {
     "duration": 0.013769,
     "end_time": "2024-12-16T00:19:40.201798",
     "exception": false,
     "start_time": "2024-12-16T00:19:40.188029",
     "status": "completed"
    },
    "tags": []
   },
   "outputs": [],
   "source": [
    "elected_feature_names = X.columns[selected_features_mask]"
   ]
  },
  {
   "cell_type": "code",
   "execution_count": 19,
   "id": "73404b8f",
   "metadata": {
    "execution": {
     "iopub.execute_input": "2024-12-16T00:19:40.216630Z",
     "iopub.status.busy": "2024-12-16T00:19:40.216357Z",
     "iopub.status.idle": "2024-12-16T00:19:40.221765Z",
     "shell.execute_reply": "2024-12-16T00:19:40.220984Z"
    },
    "papermill": {
     "duration": 0.01464,
     "end_time": "2024-12-16T00:19:40.223331",
     "exception": false,
     "start_time": "2024-12-16T00:19:40.208691",
     "status": "completed"
    },
    "tags": []
   },
   "outputs": [
    {
     "data": {
      "text/plain": [
       "Index([' Flow Duration', 'Bwd Packet Length Max', ' Bwd Packet Length Min',\n",
       "       ' Bwd Packet Length Mean', ' Bwd Packet Length Std', ' Flow IAT Std',\n",
       "       ' Flow IAT Max', 'Fwd IAT Total', ' Fwd IAT Std', ' Fwd IAT Max',\n",
       "       ' Min Packet Length', ' Max Packet Length', ' Packet Length Mean',\n",
       "       ' Packet Length Std', ' Packet Length Variance', ' Average Packet Size',\n",
       "       ' Avg Bwd Segment Size', 'Idle Mean', ' Idle Max', ' Idle Min'],\n",
       "      dtype='object')"
      ]
     },
     "execution_count": 19,
     "metadata": {},
     "output_type": "execute_result"
    }
   ],
   "source": [
    "elected_feature_names"
   ]
  },
  {
   "cell_type": "code",
   "execution_count": 20,
   "id": "562da17c",
   "metadata": {
    "execution": {
     "iopub.execute_input": "2024-12-16T00:19:40.238049Z",
     "iopub.status.busy": "2024-12-16T00:19:40.237794Z",
     "iopub.status.idle": "2024-12-16T00:19:40.241873Z",
     "shell.execute_reply": "2024-12-16T00:19:40.241016Z"
    },
    "papermill": {
     "duration": 0.013282,
     "end_time": "2024-12-16T00:19:40.243459",
     "exception": false,
     "start_time": "2024-12-16T00:19:40.230177",
     "status": "completed"
    },
    "tags": []
   },
   "outputs": [],
   "source": [
    "new_columns=[' Flow Duration', 'Bwd Packet Length Max', ' Bwd Packet Length Min',\n",
    "       ' Bwd Packet Length Mean', ' Bwd Packet Length Std', ' Flow IAT Std',\n",
    "       ' Flow IAT Max', 'Fwd IAT Total', ' Fwd IAT Std', ' Fwd IAT Max',\n",
    "       ' Min Packet Length', ' Max Packet Length', ' Packet Length Mean',\n",
    "       ' Packet Length Std', ' Packet Length Variance', ' Average Packet Size',\n",
    "       ' Avg Bwd Segment Size', 'Idle Mean', ' Idle Max', ' Idle Min']"
   ]
  },
  {
   "cell_type": "code",
   "execution_count": 21,
   "id": "90272336",
   "metadata": {
    "execution": {
     "iopub.execute_input": "2024-12-16T00:19:40.257836Z",
     "iopub.status.busy": "2024-12-16T00:19:40.257593Z",
     "iopub.status.idle": "2024-12-16T00:19:40.405212Z",
     "shell.execute_reply": "2024-12-16T00:19:40.404251Z"
    },
    "papermill": {
     "duration": 0.157188,
     "end_time": "2024-12-16T00:19:40.407344",
     "exception": false,
     "start_time": "2024-12-16T00:19:40.250156",
     "status": "completed"
    },
    "tags": []
   },
   "outputs": [],
   "source": [
    "df_new=X[new_columns]"
   ]
  },
  {
   "cell_type": "code",
   "execution_count": 22,
   "id": "3e0da798",
   "metadata": {
    "execution": {
     "iopub.execute_input": "2024-12-16T00:19:40.423390Z",
     "iopub.status.busy": "2024-12-16T00:19:40.422812Z",
     "iopub.status.idle": "2024-12-16T00:19:40.437852Z",
     "shell.execute_reply": "2024-12-16T00:19:40.437033Z"
    },
    "papermill": {
     "duration": 0.024767,
     "end_time": "2024-12-16T00:19:40.439608",
     "exception": false,
     "start_time": "2024-12-16T00:19:40.414841",
     "status": "completed"
    },
    "tags": []
   },
   "outputs": [
    {
     "data": {
      "text/html": [
       "<div>\n",
       "<style scoped>\n",
       "    .dataframe tbody tr th:only-of-type {\n",
       "        vertical-align: middle;\n",
       "    }\n",
       "\n",
       "    .dataframe tbody tr th {\n",
       "        vertical-align: top;\n",
       "    }\n",
       "\n",
       "    .dataframe thead th {\n",
       "        text-align: right;\n",
       "    }\n",
       "</style>\n",
       "<table border=\"1\" class=\"dataframe\">\n",
       "  <thead>\n",
       "    <tr style=\"text-align: right;\">\n",
       "      <th></th>\n",
       "      <th>Flow Duration</th>\n",
       "      <th>Bwd Packet Length Max</th>\n",
       "      <th>Bwd Packet Length Min</th>\n",
       "      <th>Bwd Packet Length Mean</th>\n",
       "      <th>Bwd Packet Length Std</th>\n",
       "      <th>Flow IAT Std</th>\n",
       "      <th>Flow IAT Max</th>\n",
       "      <th>Fwd IAT Total</th>\n",
       "      <th>Fwd IAT Std</th>\n",
       "      <th>Fwd IAT Max</th>\n",
       "      <th>Min Packet Length</th>\n",
       "      <th>Max Packet Length</th>\n",
       "      <th>Packet Length Mean</th>\n",
       "      <th>Packet Length Std</th>\n",
       "      <th>Packet Length Variance</th>\n",
       "      <th>Average Packet Size</th>\n",
       "      <th>Avg Bwd Segment Size</th>\n",
       "      <th>Idle Mean</th>\n",
       "      <th>Idle Max</th>\n",
       "      <th>Idle Min</th>\n",
       "    </tr>\n",
       "  </thead>\n",
       "  <tbody>\n",
       "    <tr>\n",
       "      <th>0</th>\n",
       "      <td>3</td>\n",
       "      <td>0</td>\n",
       "      <td>0</td>\n",
       "      <td>0</td>\n",
       "      <td>0</td>\n",
       "      <td>0</td>\n",
       "      <td>3</td>\n",
       "      <td>3</td>\n",
       "      <td>0</td>\n",
       "      <td>3</td>\n",
       "      <td>6</td>\n",
       "      <td>6</td>\n",
       "      <td>6</td>\n",
       "      <td>0</td>\n",
       "      <td>0</td>\n",
       "      <td>9</td>\n",
       "      <td>0</td>\n",
       "      <td>0</td>\n",
       "      <td>0</td>\n",
       "      <td>0</td>\n",
       "    </tr>\n",
       "    <tr>\n",
       "      <th>1</th>\n",
       "      <td>109</td>\n",
       "      <td>6</td>\n",
       "      <td>6</td>\n",
       "      <td>6</td>\n",
       "      <td>0</td>\n",
       "      <td>0</td>\n",
       "      <td>109</td>\n",
       "      <td>0</td>\n",
       "      <td>0</td>\n",
       "      <td>0</td>\n",
       "      <td>6</td>\n",
       "      <td>6</td>\n",
       "      <td>6</td>\n",
       "      <td>0</td>\n",
       "      <td>0</td>\n",
       "      <td>9</td>\n",
       "      <td>6</td>\n",
       "      <td>0</td>\n",
       "      <td>0</td>\n",
       "      <td>0</td>\n",
       "    </tr>\n",
       "    <tr>\n",
       "      <th>2</th>\n",
       "      <td>52</td>\n",
       "      <td>6</td>\n",
       "      <td>6</td>\n",
       "      <td>6</td>\n",
       "      <td>0</td>\n",
       "      <td>0</td>\n",
       "      <td>52</td>\n",
       "      <td>0</td>\n",
       "      <td>0</td>\n",
       "      <td>0</td>\n",
       "      <td>6</td>\n",
       "      <td>6</td>\n",
       "      <td>6</td>\n",
       "      <td>0</td>\n",
       "      <td>0</td>\n",
       "      <td>9</td>\n",
       "      <td>6</td>\n",
       "      <td>0</td>\n",
       "      <td>0</td>\n",
       "      <td>0</td>\n",
       "    </tr>\n",
       "    <tr>\n",
       "      <th>3</th>\n",
       "      <td>34</td>\n",
       "      <td>6</td>\n",
       "      <td>6</td>\n",
       "      <td>6</td>\n",
       "      <td>0</td>\n",
       "      <td>0</td>\n",
       "      <td>34</td>\n",
       "      <td>0</td>\n",
       "      <td>0</td>\n",
       "      <td>0</td>\n",
       "      <td>6</td>\n",
       "      <td>6</td>\n",
       "      <td>6</td>\n",
       "      <td>0</td>\n",
       "      <td>0</td>\n",
       "      <td>9</td>\n",
       "      <td>6</td>\n",
       "      <td>0</td>\n",
       "      <td>0</td>\n",
       "      <td>0</td>\n",
       "    </tr>\n",
       "    <tr>\n",
       "      <th>4</th>\n",
       "      <td>3</td>\n",
       "      <td>0</td>\n",
       "      <td>0</td>\n",
       "      <td>0</td>\n",
       "      <td>0</td>\n",
       "      <td>0</td>\n",
       "      <td>3</td>\n",
       "      <td>3</td>\n",
       "      <td>0</td>\n",
       "      <td>3</td>\n",
       "      <td>6</td>\n",
       "      <td>6</td>\n",
       "      <td>6</td>\n",
       "      <td>0</td>\n",
       "      <td>0</td>\n",
       "      <td>9</td>\n",
       "      <td>0</td>\n",
       "      <td>0</td>\n",
       "      <td>0</td>\n",
       "      <td>0</td>\n",
       "    </tr>\n",
       "    <tr>\n",
       "      <th>...</th>\n",
       "      <td>...</td>\n",
       "      <td>...</td>\n",
       "      <td>...</td>\n",
       "      <td>...</td>\n",
       "      <td>...</td>\n",
       "      <td>...</td>\n",
       "      <td>...</td>\n",
       "      <td>...</td>\n",
       "      <td>...</td>\n",
       "      <td>...</td>\n",
       "      <td>...</td>\n",
       "      <td>...</td>\n",
       "      <td>...</td>\n",
       "      <td>...</td>\n",
       "      <td>...</td>\n",
       "      <td>...</td>\n",
       "      <td>...</td>\n",
       "      <td>...</td>\n",
       "      <td>...</td>\n",
       "      <td>...</td>\n",
       "    </tr>\n",
       "    <tr>\n",
       "      <th>692698</th>\n",
       "      <td>32215</td>\n",
       "      <td>76</td>\n",
       "      <td>76</td>\n",
       "      <td>76</td>\n",
       "      <td>0</td>\n",
       "      <td>13617</td>\n",
       "      <td>30780</td>\n",
       "      <td>30832</td>\n",
       "      <td>17755</td>\n",
       "      <td>30780</td>\n",
       "      <td>28</td>\n",
       "      <td>76</td>\n",
       "      <td>41</td>\n",
       "      <td>23</td>\n",
       "      <td>548</td>\n",
       "      <td>48</td>\n",
       "      <td>76</td>\n",
       "      <td>0</td>\n",
       "      <td>0</td>\n",
       "      <td>0</td>\n",
       "    </tr>\n",
       "    <tr>\n",
       "      <th>692699</th>\n",
       "      <td>324</td>\n",
       "      <td>181</td>\n",
       "      <td>181</td>\n",
       "      <td>181</td>\n",
       "      <td>0</td>\n",
       "      <td>183</td>\n",
       "      <td>320</td>\n",
       "      <td>2</td>\n",
       "      <td>0</td>\n",
       "      <td>2</td>\n",
       "      <td>42</td>\n",
       "      <td>181</td>\n",
       "      <td>97</td>\n",
       "      <td>76</td>\n",
       "      <td>5796</td>\n",
       "      <td>122</td>\n",
       "      <td>181</td>\n",
       "      <td>0</td>\n",
       "      <td>0</td>\n",
       "      <td>0</td>\n",
       "    </tr>\n",
       "    <tr>\n",
       "      <th>692700</th>\n",
       "      <td>82</td>\n",
       "      <td>6</td>\n",
       "      <td>6</td>\n",
       "      <td>6</td>\n",
       "      <td>0</td>\n",
       "      <td>52</td>\n",
       "      <td>78</td>\n",
       "      <td>4</td>\n",
       "      <td>0</td>\n",
       "      <td>4</td>\n",
       "      <td>0</td>\n",
       "      <td>31</td>\n",
       "      <td>17</td>\n",
       "      <td>16</td>\n",
       "      <td>267</td>\n",
       "      <td>22</td>\n",
       "      <td>6</td>\n",
       "      <td>0</td>\n",
       "      <td>0</td>\n",
       "      <td>0</td>\n",
       "    </tr>\n",
       "    <tr>\n",
       "      <th>692701</th>\n",
       "      <td>1048635</td>\n",
       "      <td>128</td>\n",
       "      <td>128</td>\n",
       "      <td>128</td>\n",
       "      <td>0</td>\n",
       "      <td>375521</td>\n",
       "      <td>1000947</td>\n",
       "      <td>1033613</td>\n",
       "      <td>444210</td>\n",
       "      <td>1000947</td>\n",
       "      <td>32</td>\n",
       "      <td>128</td>\n",
       "      <td>53</td>\n",
       "      <td>42</td>\n",
       "      <td>1792</td>\n",
       "      <td>60</td>\n",
       "      <td>128</td>\n",
       "      <td>0</td>\n",
       "      <td>0</td>\n",
       "      <td>0</td>\n",
       "    </tr>\n",
       "    <tr>\n",
       "      <th>692702</th>\n",
       "      <td>94939</td>\n",
       "      <td>113</td>\n",
       "      <td>113</td>\n",
       "      <td>113</td>\n",
       "      <td>0</td>\n",
       "      <td>31664</td>\n",
       "      <td>73049</td>\n",
       "      <td>73051</td>\n",
       "      <td>42174</td>\n",
       "      <td>73049</td>\n",
       "      <td>47</td>\n",
       "      <td>113</td>\n",
       "      <td>65</td>\n",
       "      <td>32</td>\n",
       "      <td>1037</td>\n",
       "      <td>76</td>\n",
       "      <td>113</td>\n",
       "      <td>0</td>\n",
       "      <td>0</td>\n",
       "      <td>0</td>\n",
       "    </tr>\n",
       "  </tbody>\n",
       "</table>\n",
       "<p>2830743 rows × 20 columns</p>\n",
       "</div>"
      ],
      "text/plain": [
       "         Flow Duration  Bwd Packet Length Max   Bwd Packet Length Min  \\\n",
       "0                    3                      0                       0   \n",
       "1                  109                      6                       6   \n",
       "2                   52                      6                       6   \n",
       "3                   34                      6                       6   \n",
       "4                    3                      0                       0   \n",
       "...                ...                    ...                     ...   \n",
       "692698           32215                     76                      76   \n",
       "692699             324                    181                     181   \n",
       "692700              82                      6                       6   \n",
       "692701         1048635                    128                     128   \n",
       "692702           94939                    113                     113   \n",
       "\n",
       "         Bwd Packet Length Mean   Bwd Packet Length Std   Flow IAT Std  \\\n",
       "0                             0                       0              0   \n",
       "1                             6                       0              0   \n",
       "2                             6                       0              0   \n",
       "3                             6                       0              0   \n",
       "4                             0                       0              0   \n",
       "...                         ...                     ...            ...   \n",
       "692698                       76                       0          13617   \n",
       "692699                      181                       0            183   \n",
       "692700                        6                       0             52   \n",
       "692701                      128                       0         375521   \n",
       "692702                      113                       0          31664   \n",
       "\n",
       "         Flow IAT Max  Fwd IAT Total   Fwd IAT Std   Fwd IAT Max  \\\n",
       "0                   3              3             0             3   \n",
       "1                 109              0             0             0   \n",
       "2                  52              0             0             0   \n",
       "3                  34              0             0             0   \n",
       "4                   3              3             0             3   \n",
       "...               ...            ...           ...           ...   \n",
       "692698          30780          30832         17755         30780   \n",
       "692699            320              2             0             2   \n",
       "692700             78              4             0             4   \n",
       "692701        1000947        1033613        444210       1000947   \n",
       "692702          73049          73051         42174         73049   \n",
       "\n",
       "         Min Packet Length   Max Packet Length   Packet Length Mean  \\\n",
       "0                        6                   6                    6   \n",
       "1                        6                   6                    6   \n",
       "2                        6                   6                    6   \n",
       "3                        6                   6                    6   \n",
       "4                        6                   6                    6   \n",
       "...                    ...                 ...                  ...   \n",
       "692698                  28                  76                   41   \n",
       "692699                  42                 181                   97   \n",
       "692700                   0                  31                   17   \n",
       "692701                  32                 128                   53   \n",
       "692702                  47                 113                   65   \n",
       "\n",
       "         Packet Length Std   Packet Length Variance   Average Packet Size  \\\n",
       "0                        0                        0                     9   \n",
       "1                        0                        0                     9   \n",
       "2                        0                        0                     9   \n",
       "3                        0                        0                     9   \n",
       "4                        0                        0                     9   \n",
       "...                    ...                      ...                   ...   \n",
       "692698                  23                      548                    48   \n",
       "692699                  76                     5796                   122   \n",
       "692700                  16                      267                    22   \n",
       "692701                  42                     1792                    60   \n",
       "692702                  32                     1037                    76   \n",
       "\n",
       "         Avg Bwd Segment Size  Idle Mean   Idle Max   Idle Min  \n",
       "0                           0          0          0          0  \n",
       "1                           6          0          0          0  \n",
       "2                           6          0          0          0  \n",
       "3                           6          0          0          0  \n",
       "4                           0          0          0          0  \n",
       "...                       ...        ...        ...        ...  \n",
       "692698                     76          0          0          0  \n",
       "692699                    181          0          0          0  \n",
       "692700                      6          0          0          0  \n",
       "692701                    128          0          0          0  \n",
       "692702                    113          0          0          0  \n",
       "\n",
       "[2830743 rows x 20 columns]"
      ]
     },
     "execution_count": 22,
     "metadata": {},
     "output_type": "execute_result"
    }
   ],
   "source": [
    "df_new"
   ]
  },
  {
   "cell_type": "code",
   "execution_count": 23,
   "id": "15b28c1c",
   "metadata": {
    "execution": {
     "iopub.execute_input": "2024-12-16T00:19:40.455372Z",
     "iopub.status.busy": "2024-12-16T00:19:40.455088Z",
     "iopub.status.idle": "2024-12-16T00:19:40.460459Z",
     "shell.execute_reply": "2024-12-16T00:19:40.459647Z"
    },
    "papermill": {
     "duration": 0.015154,
     "end_time": "2024-12-16T00:19:40.462041",
     "exception": false,
     "start_time": "2024-12-16T00:19:40.446887",
     "status": "completed"
    },
    "tags": []
   },
   "outputs": [
    {
     "data": {
      "text/plain": [
       "Index([' Flow Duration', 'Bwd Packet Length Max', ' Bwd Packet Length Min',\n",
       "       ' Bwd Packet Length Mean', ' Bwd Packet Length Std', ' Flow IAT Std',\n",
       "       ' Flow IAT Max', 'Fwd IAT Total', ' Fwd IAT Std', ' Fwd IAT Max',\n",
       "       ' Min Packet Length', ' Max Packet Length', ' Packet Length Mean',\n",
       "       ' Packet Length Std', ' Packet Length Variance', ' Average Packet Size',\n",
       "       ' Avg Bwd Segment Size', 'Idle Mean', ' Idle Max', ' Idle Min'],\n",
       "      dtype='object')"
      ]
     },
     "execution_count": 23,
     "metadata": {},
     "output_type": "execute_result"
    }
   ],
   "source": [
    "df_new.columns"
   ]
  },
  {
   "cell_type": "code",
   "execution_count": 24,
   "id": "838ccdec",
   "metadata": {
    "execution": {
     "iopub.execute_input": "2024-12-16T00:19:40.477450Z",
     "iopub.status.busy": "2024-12-16T00:19:40.477173Z",
     "iopub.status.idle": "2024-12-16T00:19:40.485596Z",
     "shell.execute_reply": "2024-12-16T00:19:40.484748Z"
    },
    "papermill": {
     "duration": 0.018058,
     "end_time": "2024-12-16T00:19:40.487291",
     "exception": false,
     "start_time": "2024-12-16T00:19:40.469233",
     "status": "completed"
    },
    "tags": []
   },
   "outputs": [
    {
     "name": "stderr",
     "output_type": "stream",
     "text": [
      "/tmp/ipykernel_26/3066840877.py:1: SettingWithCopyWarning: \n",
      "A value is trying to be set on a copy of a slice from a DataFrame.\n",
      "Try using .loc[row_indexer,col_indexer] = value instead\n",
      "\n",
      "See the caveats in the documentation: https://pandas.pydata.org/pandas-docs/stable/user_guide/indexing.html#returning-a-view-versus-a-copy\n",
      "  df_new['label']=df[' Label']\n"
     ]
    }
   ],
   "source": [
    "df_new['label']=df[' Label']"
   ]
  },
  {
   "cell_type": "code",
   "execution_count": 25,
   "id": "f3dc185f",
   "metadata": {
    "execution": {
     "iopub.execute_input": "2024-12-16T00:19:40.503161Z",
     "iopub.status.busy": "2024-12-16T00:19:40.502708Z",
     "iopub.status.idle": "2024-12-16T00:19:40.812009Z",
     "shell.execute_reply": "2024-12-16T00:19:40.811342Z"
    },
    "papermill": {
     "duration": 0.319389,
     "end_time": "2024-12-16T00:19:40.813944",
     "exception": false,
     "start_time": "2024-12-16T00:19:40.494555",
     "status": "completed"
    },
    "tags": []
   },
   "outputs": [],
   "source": [
    "X1=df_new.iloc[:,:-1].values\n",
    "y1=df_new.iloc[:,-1].values"
   ]
  },
  {
   "cell_type": "code",
   "execution_count": 26,
   "id": "22fea3b1",
   "metadata": {
    "execution": {
     "iopub.execute_input": "2024-12-16T00:19:40.830808Z",
     "iopub.status.busy": "2024-12-16T00:19:40.830553Z",
     "iopub.status.idle": "2024-12-16T00:19:40.835752Z",
     "shell.execute_reply": "2024-12-16T00:19:40.835011Z"
    },
    "papermill": {
     "duration": 0.015312,
     "end_time": "2024-12-16T00:19:40.837320",
     "exception": false,
     "start_time": "2024-12-16T00:19:40.822008",
     "status": "completed"
    },
    "tags": []
   },
   "outputs": [
    {
     "data": {
      "text/plain": [
       "20"
      ]
     },
     "execution_count": 26,
     "metadata": {},
     "output_type": "execute_result"
    }
   ],
   "source": [
    "len(X1[0])"
   ]
  },
  {
   "cell_type": "code",
   "execution_count": 27,
   "id": "c77e3564",
   "metadata": {
    "execution": {
     "iopub.execute_input": "2024-12-16T00:19:40.853060Z",
     "iopub.status.busy": "2024-12-16T00:19:40.852812Z",
     "iopub.status.idle": "2024-12-16T00:19:41.734136Z",
     "shell.execute_reply": "2024-12-16T00:19:41.733209Z"
    },
    "papermill": {
     "duration": 0.891477,
     "end_time": "2024-12-16T00:19:41.736243",
     "exception": false,
     "start_time": "2024-12-16T00:19:40.844766",
     "status": "completed"
    },
    "tags": []
   },
   "outputs": [],
   "source": [
    "X_train, X_test, y_train, y_test = train_test_split(X1, y1, test_size=0.3, random_state=42)"
   ]
  },
  {
   "cell_type": "code",
   "execution_count": 28,
   "id": "f2688649",
   "metadata": {
    "execution": {
     "iopub.execute_input": "2024-12-16T00:19:41.753090Z",
     "iopub.status.busy": "2024-12-16T00:19:41.752802Z",
     "iopub.status.idle": "2024-12-16T00:19:41.758150Z",
     "shell.execute_reply": "2024-12-16T00:19:41.757251Z"
    },
    "papermill": {
     "duration": 0.015601,
     "end_time": "2024-12-16T00:19:41.759892",
     "exception": false,
     "start_time": "2024-12-16T00:19:41.744291",
     "status": "completed"
    },
    "tags": []
   },
   "outputs": [
    {
     "data": {
      "text/plain": [
       "((849223, 20), (849223,))"
      ]
     },
     "execution_count": 28,
     "metadata": {},
     "output_type": "execute_result"
    }
   ],
   "source": [
    "X_test.shape, y_test.shape"
   ]
  },
  {
   "cell_type": "code",
   "execution_count": 29,
   "id": "3db16127",
   "metadata": {
    "execution": {
     "iopub.execute_input": "2024-12-16T00:19:41.776010Z",
     "iopub.status.busy": "2024-12-16T00:19:41.775755Z",
     "iopub.status.idle": "2024-12-16T00:19:42.750236Z",
     "shell.execute_reply": "2024-12-16T00:19:42.749331Z"
    },
    "papermill": {
     "duration": 0.984804,
     "end_time": "2024-12-16T00:19:42.752317",
     "exception": false,
     "start_time": "2024-12-16T00:19:41.767513",
     "status": "completed"
    },
    "tags": []
   },
   "outputs": [],
   "source": [
    "ann = Sequential()\n",
    "ann.add(Dense(units=20,activation='sigmoid'))\n",
    "ann.add(Dense(units=20,activation='sigmoid'))\n",
    "ann.add(Dense(units=1,activation='sigmoid'))\n",
    "ann.compile(optimizer ='adam' , loss='categorical_crossentropy' , metrics= ['accuracy'])"
   ]
  },
  {
   "cell_type": "code",
   "execution_count": 30,
   "id": "91ff36f9",
   "metadata": {
    "execution": {
     "iopub.execute_input": "2024-12-16T00:19:42.769596Z",
     "iopub.status.busy": "2024-12-16T00:19:42.769282Z",
     "iopub.status.idle": "2024-12-16T00:19:42.773258Z",
     "shell.execute_reply": "2024-12-16T00:19:42.772421Z"
    },
    "papermill": {
     "duration": 0.014537,
     "end_time": "2024-12-16T00:19:42.775093",
     "exception": false,
     "start_time": "2024-12-16T00:19:42.760556",
     "status": "completed"
    },
    "tags": []
   },
   "outputs": [],
   "source": [
    "early_stopping = EarlyStopping(monitor='val_loss', patience=10)"
   ]
  },
  {
   "cell_type": "code",
   "execution_count": 31,
   "id": "a43af131",
   "metadata": {
    "execution": {
     "iopub.execute_input": "2024-12-16T00:19:42.792428Z",
     "iopub.status.busy": "2024-12-16T00:19:42.791788Z",
     "iopub.status.idle": "2024-12-16T00:19:42.929386Z",
     "shell.execute_reply": "2024-12-16T00:19:42.928552Z"
    },
    "papermill": {
     "duration": 0.155107,
     "end_time": "2024-12-16T00:19:42.937943",
     "exception": false,
     "start_time": "2024-12-16T00:19:42.782836",
     "status": "completed"
    },
    "tags": []
   },
   "outputs": [
    {
     "name": "stdout",
     "output_type": "stream",
     "text": [
      "Model: \"model\"\n",
      "_________________________________________________________________\n",
      " Layer (type)                Output Shape              Param #   \n",
      "=================================================================\n",
      " numerical_input (InputLaye  [(None, 20)]              0         \n",
      " r)                                                              \n",
      "                                                                 \n",
      " batch_normalization (Batch  (None, 20)                80        \n",
      " Normalization)                                                  \n",
      "                                                                 \n",
      " dense_3 (Dense)             (None, 128)               2688      \n",
      "                                                                 \n",
      " dropout (Dropout)           (None, 128)               0         \n",
      "                                                                 \n",
      " dense_4 (Dense)             (None, 64)                8256      \n",
      "                                                                 \n",
      " dropout_1 (Dropout)         (None, 64)                0         \n",
      "                                                                 \n",
      " dense_5 (Dense)             (None, 32)                2080      \n",
      "                                                                 \n",
      " output (Dense)              (None, 2)                 66        \n",
      "                                                                 \n",
      "=================================================================\n",
      "Total params: 13170 (51.45 KB)\n",
      "Trainable params: 13130 (51.29 KB)\n",
      "Non-trainable params: 40 (160.00 Byte)\n",
      "_________________________________________________________________\n"
     ]
    }
   ],
   "source": [
    "class ClassificationModel:\n",
    "    def __init__(self, numerical_feature_count, num_classes):\n",
    "        \"\"\"\n",
    "        Initializes the ClassificationModel class.\n",
    "        \n",
    "        :param numerical_feature_count: Number of numerical features.\n",
    "        :param num_classes: Number of classes in the target variable.\n",
    "        \"\"\"\n",
    "        self.numerical_feature_count = numerical_feature_count\n",
    "        self.num_classes = num_classes\n",
    "        self.model = self._build_model()\n",
    "\n",
    "    def _build_model(self):\n",
    "        \"\"\"\n",
    "        Builds the TensorFlow model for classification tasks.\n",
    "        \n",
    "        :return: Compiled TensorFlow model.\n",
    "        \"\"\"\n",
    "        # Numerical input\n",
    "        numerical_input = Input(shape=(self.numerical_feature_count,), name=\"numerical_input\")\n",
    "        x = BatchNormalization()(numerical_input)  # Normalize numerical inputs\n",
    "\n",
    "        # Fully connected layers\n",
    "        x = Dense(128, activation='relu')(x)\n",
    "        x = Dropout(0.3)(x)\n",
    "        x = Dense(64, activation='relu')(x)\n",
    "        x = Dropout(0.3)(x)\n",
    "        x = Dense(32, activation='relu')(x)\n",
    "\n",
    "        # Output layer\n",
    "        output = Dense(self.num_classes, activation='softmax', name=\"output\")(x)\n",
    "\n",
    "        # Create model\n",
    "        model = Model(inputs=numerical_input, outputs=output)\n",
    "        \n",
    "        # Compile model\n",
    "        model.compile(\n",
    "            optimizer=Adam(learning_rate=0.001),\n",
    "            loss='sparse_categorical_crossentropy',\n",
    "            metrics=['accuracy']\n",
    "        )\n",
    "        \n",
    "        return model\n",
    "\n",
    "    def summary(self):\n",
    "        \"\"\"Prints the summary of the model.\"\"\"\n",
    "        self.model.summary()\n",
    "\n",
    "numerical_feature_count = 20\n",
    "num_classes = 2\n",
    "\n",
    "model = ClassificationModel(numerical_feature_count, num_classes).model\n",
    "model.summary()"
   ]
  },
  {
   "cell_type": "code",
   "execution_count": 32,
   "id": "f0361d72",
   "metadata": {
    "execution": {
     "iopub.execute_input": "2024-12-16T00:19:42.957013Z",
     "iopub.status.busy": "2024-12-16T00:19:42.956774Z",
     "iopub.status.idle": "2024-12-16T05:25:22.800042Z",
     "shell.execute_reply": "2024-12-16T05:25:22.799254Z"
    },
    "papermill": {
     "duration": 18339.854837,
     "end_time": "2024-12-16T05:25:22.801806",
     "exception": false,
     "start_time": "2024-12-16T00:19:42.946969",
     "status": "completed"
    },
    "tags": []
   },
   "outputs": [
    {
     "name": "stdout",
     "output_type": "stream",
     "text": [
      "Epoch 1/100\n",
      "61923/61923 [==============================] - 184s 3ms/step - loss: 0.2069 - accuracy: 0.9021\n",
      "Epoch 2/100\n",
      "61923/61923 [==============================] - 180s 3ms/step - loss: 0.1930 - accuracy: 0.9083\n",
      "Epoch 3/100\n",
      "61923/61923 [==============================] - 180s 3ms/step - loss: 0.1902 - accuracy: 0.9097\n",
      "Epoch 4/100\n",
      "61923/61923 [==============================] - 180s 3ms/step - loss: 0.1883 - accuracy: 0.9103\n",
      "Epoch 5/100\n",
      "61923/61923 [==============================] - 180s 3ms/step - loss: 0.1873 - accuracy: 0.9109\n",
      "Epoch 6/100\n",
      "61923/61923 [==============================] - 180s 3ms/step - loss: 0.1860 - accuracy: 0.9116\n",
      "Epoch 7/100\n",
      "61923/61923 [==============================] - 181s 3ms/step - loss: 0.1859 - accuracy: 0.9117\n",
      "Epoch 8/100\n",
      "61923/61923 [==============================] - 182s 3ms/step - loss: 0.1857 - accuracy: 0.9119\n",
      "Epoch 9/100\n",
      "61923/61923 [==============================] - 184s 3ms/step - loss: 0.1855 - accuracy: 0.9118\n",
      "Epoch 10/100\n",
      "61923/61923 [==============================] - 183s 3ms/step - loss: 0.1846 - accuracy: 0.9123\n",
      "Epoch 11/100\n",
      "61923/61923 [==============================] - 184s 3ms/step - loss: 0.1848 - accuracy: 0.9122\n",
      "Epoch 12/100\n",
      "61923/61923 [==============================] - 182s 3ms/step - loss: 0.1842 - accuracy: 0.9123\n",
      "Epoch 13/100\n",
      "61923/61923 [==============================] - 181s 3ms/step - loss: 0.1845 - accuracy: 0.9120\n",
      "Epoch 14/100\n",
      "61923/61923 [==============================] - 183s 3ms/step - loss: 0.1844 - accuracy: 0.9123\n",
      "Epoch 15/100\n",
      "61923/61923 [==============================] - 183s 3ms/step - loss: 0.1849 - accuracy: 0.9122\n",
      "Epoch 16/100\n",
      "61923/61923 [==============================] - 183s 3ms/step - loss: 0.1847 - accuracy: 0.9124\n",
      "Epoch 17/100\n",
      "61923/61923 [==============================] - 183s 3ms/step - loss: 0.1846 - accuracy: 0.9122\n",
      "Epoch 18/100\n",
      "61923/61923 [==============================] - 183s 3ms/step - loss: 0.1848 - accuracy: 0.9122\n",
      "Epoch 19/100\n",
      "61923/61923 [==============================] - 184s 3ms/step - loss: 0.1845 - accuracy: 0.9124\n",
      "Epoch 20/100\n",
      "61923/61923 [==============================] - 183s 3ms/step - loss: 0.1847 - accuracy: 0.9124\n",
      "Epoch 21/100\n",
      "61923/61923 [==============================] - 184s 3ms/step - loss: 0.1846 - accuracy: 0.9120\n",
      "Epoch 22/100\n",
      "61923/61923 [==============================] - 182s 3ms/step - loss: 0.1851 - accuracy: 0.9122\n",
      "Epoch 23/100\n",
      "61923/61923 [==============================] - 185s 3ms/step - loss: 0.1852 - accuracy: 0.9122\n",
      "Epoch 24/100\n",
      "61923/61923 [==============================] - 186s 3ms/step - loss: 0.1852 - accuracy: 0.9120\n",
      "Epoch 25/100\n",
      "61923/61923 [==============================] - 185s 3ms/step - loss: 0.1854 - accuracy: 0.9120\n",
      "Epoch 26/100\n",
      "61923/61923 [==============================] - 184s 3ms/step - loss: 0.1860 - accuracy: 0.9120\n",
      "Epoch 27/100\n",
      "61923/61923 [==============================] - 184s 3ms/step - loss: 0.1859 - accuracy: 0.9121\n",
      "Epoch 28/100\n",
      "61923/61923 [==============================] - 185s 3ms/step - loss: 0.1862 - accuracy: 0.9115\n",
      "Epoch 29/100\n",
      "61923/61923 [==============================] - 184s 3ms/step - loss: 0.1867 - accuracy: 0.9115\n",
      "Epoch 30/100\n",
      "61923/61923 [==============================] - 187s 3ms/step - loss: 0.1868 - accuracy: 0.9112\n",
      "Epoch 31/100\n",
      "61923/61923 [==============================] - 182s 3ms/step - loss: 0.1872 - accuracy: 0.9109\n",
      "Epoch 32/100\n",
      "61923/61923 [==============================] - 183s 3ms/step - loss: 0.1878 - accuracy: 0.9111\n",
      "Epoch 33/100\n",
      "61923/61923 [==============================] - 183s 3ms/step - loss: 0.1873 - accuracy: 0.9109\n",
      "Epoch 34/100\n",
      "61923/61923 [==============================] - 183s 3ms/step - loss: 0.1879 - accuracy: 0.9107\n",
      "Epoch 35/100\n",
      "61923/61923 [==============================] - 183s 3ms/step - loss: 0.1879 - accuracy: 0.9109\n",
      "Epoch 36/100\n",
      "61923/61923 [==============================] - 184s 3ms/step - loss: 0.1885 - accuracy: 0.9105\n",
      "Epoch 37/100\n",
      "61923/61923 [==============================] - 182s 3ms/step - loss: 0.1894 - accuracy: 0.9103\n",
      "Epoch 38/100\n",
      "61923/61923 [==============================] - 183s 3ms/step - loss: 0.1885 - accuracy: 0.9105\n",
      "Epoch 39/100\n",
      "61923/61923 [==============================] - 183s 3ms/step - loss: 0.1882 - accuracy: 0.9108\n",
      "Epoch 40/100\n",
      "61923/61923 [==============================] - 182s 3ms/step - loss: 0.1898 - accuracy: 0.9101\n",
      "Epoch 41/100\n",
      "61923/61923 [==============================] - 185s 3ms/step - loss: 0.1897 - accuracy: 0.9103\n",
      "Epoch 42/100\n",
      "61923/61923 [==============================] - 184s 3ms/step - loss: 0.1915 - accuracy: 0.9103\n",
      "Epoch 43/100\n",
      "61923/61923 [==============================] - 184s 3ms/step - loss: 0.1894 - accuracy: 0.9102\n",
      "Epoch 44/100\n",
      "61923/61923 [==============================] - 185s 3ms/step - loss: 0.1899 - accuracy: 0.9096\n",
      "Epoch 45/100\n",
      "61923/61923 [==============================] - 184s 3ms/step - loss: 0.1904 - accuracy: 0.9099\n",
      "Epoch 46/100\n",
      "61923/61923 [==============================] - 185s 3ms/step - loss: 0.1902 - accuracy: 0.9097\n",
      "Epoch 47/100\n",
      "61923/61923 [==============================] - 186s 3ms/step - loss: 0.1909 - accuracy: 0.9097\n",
      "Epoch 48/100\n",
      "61923/61923 [==============================] - 184s 3ms/step - loss: 0.1906 - accuracy: 0.9098\n",
      "Epoch 49/100\n",
      "61923/61923 [==============================] - 186s 3ms/step - loss: 0.1906 - accuracy: 0.9094\n",
      "Epoch 50/100\n",
      "61923/61923 [==============================] - 184s 3ms/step - loss: 0.1911 - accuracy: 0.9092\n",
      "Epoch 51/100\n",
      "61923/61923 [==============================] - 185s 3ms/step - loss: 0.1915 - accuracy: 0.9094\n",
      "Epoch 52/100\n",
      "61923/61923 [==============================] - 184s 3ms/step - loss: 0.1917 - accuracy: 0.9095\n",
      "Epoch 53/100\n",
      "61923/61923 [==============================] - 186s 3ms/step - loss: 0.1927 - accuracy: 0.9095\n",
      "Epoch 54/100\n",
      "61923/61923 [==============================] - 184s 3ms/step - loss: 0.1913 - accuracy: 0.9093\n",
      "Epoch 55/100\n",
      "61923/61923 [==============================] - 186s 3ms/step - loss: 0.1916 - accuracy: 0.9092\n",
      "Epoch 56/100\n",
      "61923/61923 [==============================] - 185s 3ms/step - loss: 0.1920 - accuracy: 0.9092\n",
      "Epoch 57/100\n",
      "61923/61923 [==============================] - 185s 3ms/step - loss: 0.1918 - accuracy: 0.9092\n",
      "Epoch 58/100\n",
      "61923/61923 [==============================] - 182s 3ms/step - loss: 0.1925 - accuracy: 0.9091\n",
      "Epoch 59/100\n",
      "61923/61923 [==============================] - 183s 3ms/step - loss: 0.1925 - accuracy: 0.9090\n",
      "Epoch 60/100\n",
      "61923/61923 [==============================] - 181s 3ms/step - loss: 0.1919 - accuracy: 0.9092\n",
      "Epoch 61/100\n",
      "61923/61923 [==============================] - 182s 3ms/step - loss: 0.1922 - accuracy: 0.9093\n",
      "Epoch 62/100\n",
      "61923/61923 [==============================] - 182s 3ms/step - loss: 0.1927 - accuracy: 0.9088\n",
      "Epoch 63/100\n",
      "61923/61923 [==============================] - 179s 3ms/step - loss: 0.1919 - accuracy: 0.9088\n",
      "Epoch 64/100\n",
      "61923/61923 [==============================] - 181s 3ms/step - loss: 0.1931 - accuracy: 0.9087\n",
      "Epoch 65/100\n",
      "61923/61923 [==============================] - 180s 3ms/step - loss: 0.1921 - accuracy: 0.9090\n",
      "Epoch 66/100\n",
      "61923/61923 [==============================] - 179s 3ms/step - loss: 0.1929 - accuracy: 0.9090\n",
      "Epoch 67/100\n",
      "61923/61923 [==============================] - 182s 3ms/step - loss: 0.1931 - accuracy: 0.9085\n",
      "Epoch 68/100\n",
      "61923/61923 [==============================] - 180s 3ms/step - loss: 0.1924 - accuracy: 0.9087\n",
      "Epoch 69/100\n",
      "61923/61923 [==============================] - 180s 3ms/step - loss: 0.1931 - accuracy: 0.9086\n",
      "Epoch 70/100\n",
      "61923/61923 [==============================] - 182s 3ms/step - loss: 0.1927 - accuracy: 0.9087\n",
      "Epoch 71/100\n",
      "61923/61923 [==============================] - 179s 3ms/step - loss: 0.1932 - accuracy: 0.9086\n",
      "Epoch 72/100\n",
      "61923/61923 [==============================] - 180s 3ms/step - loss: 0.1935 - accuracy: 0.9086\n",
      "Epoch 73/100\n",
      "61923/61923 [==============================] - 181s 3ms/step - loss: 0.1929 - accuracy: 0.9085\n",
      "Epoch 74/100\n",
      "61923/61923 [==============================] - 181s 3ms/step - loss: 0.1940 - accuracy: 0.9085\n",
      "Epoch 75/100\n",
      "61923/61923 [==============================] - 180s 3ms/step - loss: 0.1931 - accuracy: 0.9086\n",
      "Epoch 76/100\n",
      "61923/61923 [==============================] - 182s 3ms/step - loss: 0.1937 - accuracy: 0.9085\n",
      "Epoch 77/100\n",
      "61923/61923 [==============================] - 185s 3ms/step - loss: 0.1940 - accuracy: 0.9082\n",
      "Epoch 78/100\n",
      "61923/61923 [==============================] - 182s 3ms/step - loss: 0.1941 - accuracy: 0.9082\n",
      "Epoch 79/100\n",
      "61923/61923 [==============================] - 183s 3ms/step - loss: 0.1941 - accuracy: 0.9083\n",
      "Epoch 80/100\n",
      "61923/61923 [==============================] - 185s 3ms/step - loss: 0.1953 - accuracy: 0.9080\n",
      "Epoch 81/100\n",
      "61923/61923 [==============================] - 182s 3ms/step - loss: 0.1947 - accuracy: 0.9081\n",
      "Epoch 82/100\n",
      "61923/61923 [==============================] - 180s 3ms/step - loss: 0.1948 - accuracy: 0.9082\n",
      "Epoch 83/100\n",
      "61923/61923 [==============================] - 181s 3ms/step - loss: 0.1952 - accuracy: 0.9076\n",
      "Epoch 84/100\n",
      "61923/61923 [==============================] - 180s 3ms/step - loss: 0.1951 - accuracy: 0.9078\n",
      "Epoch 85/100\n",
      "61923/61923 [==============================] - 180s 3ms/step - loss: 0.1957 - accuracy: 0.9077\n",
      "Epoch 86/100\n",
      "61923/61923 [==============================] - 181s 3ms/step - loss: 0.1961 - accuracy: 0.9078\n",
      "Epoch 87/100\n",
      "61923/61923 [==============================] - 184s 3ms/step - loss: 0.1951 - accuracy: 0.9078\n",
      "Epoch 88/100\n",
      "61923/61923 [==============================] - 182s 3ms/step - loss: 0.1961 - accuracy: 0.9076\n",
      "Epoch 89/100\n",
      "61923/61923 [==============================] - 181s 3ms/step - loss: 0.1962 - accuracy: 0.9080\n",
      "Epoch 90/100\n",
      "61923/61923 [==============================] - 181s 3ms/step - loss: 0.1960 - accuracy: 0.9078\n",
      "Epoch 91/100\n",
      "61923/61923 [==============================] - 181s 3ms/step - loss: 0.1960 - accuracy: 0.9076\n",
      "Epoch 92/100\n",
      "61923/61923 [==============================] - 181s 3ms/step - loss: 0.1960 - accuracy: 0.9077\n",
      "Epoch 93/100\n",
      "61923/61923 [==============================] - 187s 3ms/step - loss: 0.1961 - accuracy: 0.9071\n",
      "Epoch 94/100\n",
      "61923/61923 [==============================] - 201s 3ms/step - loss: 0.1964 - accuracy: 0.9074\n",
      "Epoch 95/100\n",
      "61923/61923 [==============================] - 198s 3ms/step - loss: 0.1979 - accuracy: 0.9074\n",
      "Epoch 96/100\n",
      "61923/61923 [==============================] - 199s 3ms/step - loss: 0.1969 - accuracy: 0.9075\n",
      "Epoch 97/100\n",
      "61923/61923 [==============================] - 201s 3ms/step - loss: 0.1981 - accuracy: 0.9067\n",
      "Epoch 98/100\n",
      "61923/61923 [==============================] - 183s 3ms/step - loss: 0.1972 - accuracy: 0.9071\n",
      "Epoch 99/100\n",
      "61923/61923 [==============================] - 180s 3ms/step - loss: 0.1981 - accuracy: 0.9068\n",
      "Epoch 100/100\n",
      "61923/61923 [==============================] - 183s 3ms/step - loss: 0.1990 - accuracy: 0.9070\n"
     ]
    },
    {
     "data": {
      "text/plain": [
       "<keras.src.callbacks.History at 0x7ddb485fbb80>"
      ]
     },
     "execution_count": 32,
     "metadata": {},
     "output_type": "execute_result"
    }
   ],
   "source": [
    "#training the model on training set\n",
    "model.fit(X_train,y_train,batch_size=32,epochs=100,callbacks=[early_stopping])"
   ]
  },
  {
   "cell_type": "code",
   "execution_count": 33,
   "id": "3f87c39c",
   "metadata": {
    "execution": {
     "iopub.execute_input": "2024-12-16T05:25:58.516696Z",
     "iopub.status.busy": "2024-12-16T05:25:58.516009Z",
     "iopub.status.idle": "2024-12-16T05:25:58.686027Z",
     "shell.execute_reply": "2024-12-16T05:25:58.685250Z"
    },
    "papermill": {
     "duration": 18.065676,
     "end_time": "2024-12-16T05:25:58.687738",
     "exception": false,
     "start_time": "2024-12-16T05:25:40.622062",
     "status": "completed"
    },
    "tags": []
   },
   "outputs": [
    {
     "name": "stdout",
     "output_type": "stream",
     "text": [
      "1/1 [==============================] - 0s 125ms/step\n",
      "[[0. 1.]]\n"
     ]
    }
   ],
   "source": [
    "#gives the probabibility wheather the customer will churn or not\n",
    "print(model.predict([[3268,72,72,0,0,0,0,201,72,32,3268,72,72,0,0,0,0,201,72,32]]))"
   ]
  },
  {
   "cell_type": "code",
   "execution_count": 34,
   "id": "910986ca",
   "metadata": {
    "execution": {
     "iopub.execute_input": "2024-12-16T05:26:34.399400Z",
     "iopub.status.busy": "2024-12-16T05:26:34.398791Z",
     "iopub.status.idle": "2024-12-16T05:26:34.402767Z",
     "shell.execute_reply": "2024-12-16T05:26:34.401957Z"
    },
    "papermill": {
     "duration": 17.544065,
     "end_time": "2024-12-16T05:26:34.404384",
     "exception": false,
     "start_time": "2024-12-16T05:26:16.860319",
     "status": "completed"
    },
    "tags": []
   },
   "outputs": [],
   "source": [
    "lr = LinearRegression()"
   ]
  },
  {
   "cell_type": "code",
   "execution_count": 35,
   "id": "2a7b238d",
   "metadata": {
    "execution": {
     "iopub.execute_input": "2024-12-16T05:27:10.059416Z",
     "iopub.status.busy": "2024-12-16T05:27:10.058705Z",
     "iopub.status.idle": "2024-12-16T05:27:10.927392Z",
     "shell.execute_reply": "2024-12-16T05:27:10.926698Z"
    },
    "papermill": {
     "duration": 18.658707,
     "end_time": "2024-12-16T05:27:10.929328",
     "exception": false,
     "start_time": "2024-12-16T05:26:52.270621",
     "status": "completed"
    },
    "tags": []
   },
   "outputs": [],
   "source": [
    "X_train, X_test, y_train, y_test = train_test_split(df_new, y, test_size=0.3, random_state=42)"
   ]
  },
  {
   "cell_type": "code",
   "execution_count": 36,
   "id": "079eb107",
   "metadata": {
    "execution": {
     "iopub.execute_input": "2024-12-16T05:27:46.834471Z",
     "iopub.status.busy": "2024-12-16T05:27:46.834111Z",
     "iopub.status.idle": "2024-12-16T05:27:46.839059Z",
     "shell.execute_reply": "2024-12-16T05:27:46.838233Z"
    },
    "papermill": {
     "duration": 17.851187,
     "end_time": "2024-12-16T05:27:46.840818",
     "exception": false,
     "start_time": "2024-12-16T05:27:28.989631",
     "status": "completed"
    },
    "tags": []
   },
   "outputs": [
    {
     "name": "stdout",
     "output_type": "stream",
     "text": [
      "X_train shape: (1981520, 21)\n",
      "X_test shape: (849223, 21)\n",
      "y_train shape: (1981520,)\n",
      "y_test shape: (849223,)\n"
     ]
    }
   ],
   "source": [
    "print(\"X_train shape:\", X_train.shape)\n",
    "print(\"X_test shape:\", X_test.shape)\n",
    "print(\"y_train shape:\", y_train.shape)\n",
    "print(\"y_test shape:\", y_test.shape)\n"
   ]
  },
  {
   "cell_type": "code",
   "execution_count": 37,
   "id": "a5dbe09d",
   "metadata": {
    "execution": {
     "iopub.execute_input": "2024-12-16T05:28:22.183775Z",
     "iopub.status.busy": "2024-12-16T05:28:22.182926Z",
     "iopub.status.idle": "2024-12-16T05:28:24.948778Z",
     "shell.execute_reply": "2024-12-16T05:28:24.947937Z"
    },
    "papermill": {
     "duration": 20.530182,
     "end_time": "2024-12-16T05:28:24.950546",
     "exception": false,
     "start_time": "2024-12-16T05:28:04.420364",
     "status": "completed"
    },
    "tags": []
   },
   "outputs": [
    {
     "data": {
      "text/html": [
       "<style>#sk-container-id-1 {color: black;background-color: white;}#sk-container-id-1 pre{padding: 0;}#sk-container-id-1 div.sk-toggleable {background-color: white;}#sk-container-id-1 label.sk-toggleable__label {cursor: pointer;display: block;width: 100%;margin-bottom: 0;padding: 0.3em;box-sizing: border-box;text-align: center;}#sk-container-id-1 label.sk-toggleable__label-arrow:before {content: \"▸\";float: left;margin-right: 0.25em;color: #696969;}#sk-container-id-1 label.sk-toggleable__label-arrow:hover:before {color: black;}#sk-container-id-1 div.sk-estimator:hover label.sk-toggleable__label-arrow:before {color: black;}#sk-container-id-1 div.sk-toggleable__content {max-height: 0;max-width: 0;overflow: hidden;text-align: left;background-color: #f0f8ff;}#sk-container-id-1 div.sk-toggleable__content pre {margin: 0.2em;color: black;border-radius: 0.25em;background-color: #f0f8ff;}#sk-container-id-1 input.sk-toggleable__control:checked~div.sk-toggleable__content {max-height: 200px;max-width: 100%;overflow: auto;}#sk-container-id-1 input.sk-toggleable__control:checked~label.sk-toggleable__label-arrow:before {content: \"▾\";}#sk-container-id-1 div.sk-estimator input.sk-toggleable__control:checked~label.sk-toggleable__label {background-color: #d4ebff;}#sk-container-id-1 div.sk-label input.sk-toggleable__control:checked~label.sk-toggleable__label {background-color: #d4ebff;}#sk-container-id-1 input.sk-hidden--visually {border: 0;clip: rect(1px 1px 1px 1px);clip: rect(1px, 1px, 1px, 1px);height: 1px;margin: -1px;overflow: hidden;padding: 0;position: absolute;width: 1px;}#sk-container-id-1 div.sk-estimator {font-family: monospace;background-color: #f0f8ff;border: 1px dotted black;border-radius: 0.25em;box-sizing: border-box;margin-bottom: 0.5em;}#sk-container-id-1 div.sk-estimator:hover {background-color: #d4ebff;}#sk-container-id-1 div.sk-parallel-item::after {content: \"\";width: 100%;border-bottom: 1px solid gray;flex-grow: 1;}#sk-container-id-1 div.sk-label:hover label.sk-toggleable__label {background-color: #d4ebff;}#sk-container-id-1 div.sk-serial::before {content: \"\";position: absolute;border-left: 1px solid gray;box-sizing: border-box;top: 0;bottom: 0;left: 50%;z-index: 0;}#sk-container-id-1 div.sk-serial {display: flex;flex-direction: column;align-items: center;background-color: white;padding-right: 0.2em;padding-left: 0.2em;position: relative;}#sk-container-id-1 div.sk-item {position: relative;z-index: 1;}#sk-container-id-1 div.sk-parallel {display: flex;align-items: stretch;justify-content: center;background-color: white;position: relative;}#sk-container-id-1 div.sk-item::before, #sk-container-id-1 div.sk-parallel-item::before {content: \"\";position: absolute;border-left: 1px solid gray;box-sizing: border-box;top: 0;bottom: 0;left: 50%;z-index: -1;}#sk-container-id-1 div.sk-parallel-item {display: flex;flex-direction: column;z-index: 1;position: relative;background-color: white;}#sk-container-id-1 div.sk-parallel-item:first-child::after {align-self: flex-end;width: 50%;}#sk-container-id-1 div.sk-parallel-item:last-child::after {align-self: flex-start;width: 50%;}#sk-container-id-1 div.sk-parallel-item:only-child::after {width: 0;}#sk-container-id-1 div.sk-dashed-wrapped {border: 1px dashed gray;margin: 0 0.4em 0.5em 0.4em;box-sizing: border-box;padding-bottom: 0.4em;background-color: white;}#sk-container-id-1 div.sk-label label {font-family: monospace;font-weight: bold;display: inline-block;line-height: 1.2em;}#sk-container-id-1 div.sk-label-container {text-align: center;}#sk-container-id-1 div.sk-container {/* jupyter's `normalize.less` sets `[hidden] { display: none; }` but bootstrap.min.css set `[hidden] { display: none !important; }` so we also need the `!important` here to be able to override the default hidden behavior on the sphinx rendered scikit-learn.org. See: https://github.com/scikit-learn/scikit-learn/issues/21755 */display: inline-block !important;position: relative;}#sk-container-id-1 div.sk-text-repr-fallback {display: none;}</style><div id=\"sk-container-id-1\" class=\"sk-top-container\"><div class=\"sk-text-repr-fallback\"><pre>LinearRegression()</pre><b>In a Jupyter environment, please rerun this cell to show the HTML representation or trust the notebook. <br />On GitHub, the HTML representation is unable to render, please try loading this page with nbviewer.org.</b></div><div class=\"sk-container\" hidden><div class=\"sk-item\"><div class=\"sk-estimator sk-toggleable\"><input class=\"sk-toggleable__control sk-hidden--visually\" id=\"sk-estimator-id-1\" type=\"checkbox\" checked><label for=\"sk-estimator-id-1\" class=\"sk-toggleable__label sk-toggleable__label-arrow\">LinearRegression</label><div class=\"sk-toggleable__content\"><pre>LinearRegression()</pre></div></div></div></div></div>"
      ],
      "text/plain": [
       "LinearRegression()"
      ]
     },
     "execution_count": 37,
     "metadata": {},
     "output_type": "execute_result"
    }
   ],
   "source": [
    "lr.fit(X_train,y_train)"
   ]
  },
  {
   "cell_type": "code",
   "execution_count": 38,
   "id": "b7a48791",
   "metadata": {
    "execution": {
     "iopub.execute_input": "2024-12-16T05:29:00.530402Z",
     "iopub.status.busy": "2024-12-16T05:29:00.529666Z",
     "iopub.status.idle": "2024-12-16T05:29:00.642033Z",
     "shell.execute_reply": "2024-12-16T05:29:00.640811Z"
    },
    "papermill": {
     "duration": 17.973737,
     "end_time": "2024-12-16T05:29:00.645229",
     "exception": false,
     "start_time": "2024-12-16T05:28:42.671492",
     "status": "completed"
    },
    "tags": []
   },
   "outputs": [],
   "source": [
    "y_pred = lr.predict(X_test)"
   ]
  },
  {
   "cell_type": "code",
   "execution_count": 39,
   "id": "18da98bb",
   "metadata": {
    "execution": {
     "iopub.execute_input": "2024-12-16T05:29:36.136033Z",
     "iopub.status.busy": "2024-12-16T05:29:36.135426Z",
     "iopub.status.idle": "2024-12-16T05:29:36.150673Z",
     "shell.execute_reply": "2024-12-16T05:29:36.149698Z"
    },
    "papermill": {
     "duration": 17.625961,
     "end_time": "2024-12-16T05:29:36.152434",
     "exception": false,
     "start_time": "2024-12-16T05:29:18.526473",
     "status": "completed"
    },
    "tags": []
   },
   "outputs": [
    {
     "name": "stdout",
     "output_type": "stream",
     "text": [
      "Mean Squared Error: 9.855604712561328e-31\n",
      "R-squared: 1.0\n"
     ]
    }
   ],
   "source": [
    "print(\"Mean Squared Error:\",  mean_squared_error(y_test, y_pred))\n",
    "print(\"R-squared:\", r2_score(y_test, y_pred))"
   ]
  },
  {
   "cell_type": "code",
   "execution_count": 40,
   "id": "4a9ed38e",
   "metadata": {
    "execution": {
     "iopub.execute_input": "2024-12-16T05:30:11.966659Z",
     "iopub.status.busy": "2024-12-16T05:30:11.965771Z",
     "iopub.status.idle": "2024-12-16T05:30:12.006262Z",
     "shell.execute_reply": "2024-12-16T05:30:12.005474Z"
    },
    "papermill": {
     "duration": 18.018103,
     "end_time": "2024-12-16T05:30:12.009546",
     "exception": false,
     "start_time": "2024-12-16T05:29:53.991443",
     "status": "completed"
    },
    "tags": []
   },
   "outputs": [
    {
     "name": "stderr",
     "output_type": "stream",
     "text": [
      "/opt/conda/lib/python3.10/site-packages/keras/src/engine/training.py:3000: UserWarning: You are saving your model as an HDF5 file via `model.save()`. This file format is considered legacy. We recommend using instead the native Keras format, e.g. `model.save('my_model.keras')`.\n",
      "  saving_api.save_model(\n"
     ]
    }
   ],
   "source": [
    "model.save(\"model.h5\")"
   ]
  }
 ],
 "metadata": {
  "kaggle": {
   "accelerator": "gpu",
   "dataSources": [
    {
     "datasetId": 3674161,
     "sourceId": 6376134,
     "sourceType": "datasetVersion"
    }
   ],
   "dockerImageVersionId": 30635,
   "isGpuEnabled": true,
   "isInternetEnabled": true,
   "language": "python",
   "sourceType": "notebook"
  },
  "kernelspec": {
   "display_name": "Python 3",
   "language": "python",
   "name": "python3"
  },
  "language_info": {
   "codemirror_mode": {
    "name": "ipython",
    "version": 3
   },
   "file_extension": ".py",
   "mimetype": "text/x-python",
   "name": "python",
   "nbconvert_exporter": "python",
   "pygments_lexer": "ipython3",
   "version": "3.10.12"
  },
  "papermill": {
   "default_parameters": {},
   "duration": 18711.317647,
   "end_time": "2024-12-16T05:30:32.299899",
   "environment_variables": {},
   "exception": null,
   "input_path": "__notebook__.ipynb",
   "output_path": "__notebook__.ipynb",
   "parameters": {},
   "start_time": "2024-12-16T00:18:40.982252",
   "version": "2.4.0"
  }
 },
 "nbformat": 4,
 "nbformat_minor": 5
}
